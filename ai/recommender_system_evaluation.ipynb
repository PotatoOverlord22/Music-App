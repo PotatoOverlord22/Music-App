{
 "cells": [
  {
   "cell_type": "code",
   "execution_count": 1,
   "id": "41b3e579",
   "metadata": {},
   "outputs": [
    {
     "name": "stdout",
     "output_type": "stream",
     "text": [
      "Loaded model from disk.\n",
      "1070/1070 [==============================] - 5s 3ms/step - loss: 1.1876 - accuracy: 0.5583\n",
      "\n",
      "📊 Full Dataset Evaluation:\n",
      "Loss: 1.1876, Accuracy: 0.5583\n"
     ]
    }
   ],
   "source": [
    "import os\n",
    "import pickle\n",
    "import numpy as np\n",
    "import pandas as pd\n",
    "import tensorflow as tf\n",
    "from sklearn.preprocessing import StandardScaler, OneHotEncoder\n",
    "\n",
    "# === Load model ===\n",
    "model = tf.keras.models.load_model('./saved_models/genre_recommender')\n",
    "print(\"Loaded model from disk.\")\n",
    "\n",
    "# === Load dataset ===\n",
    "df = pd.read_csv('./Data/cars_dataset.csv')\n",
    "\n",
    "# === Load encoders ===\n",
    "with open('./saved_models/genre_recommender/scaler.pkl', 'rb') as f:\n",
    "    scaler = pickle.load(f)\n",
    "\n",
    "with open('./saved_models/genre_recommender/mood_encoder.pkl', 'rb') as f:\n",
    "    mood_encoder = pickle.load(f)\n",
    "\n",
    "with open('./saved_models/genre_recommender/time_encoder.pkl', 'rb') as f:\n",
    "    time_encoder = pickle.load(f)\n",
    "\n",
    "with open('./saved_models/genre_recommender/genre_encoder.pkl', 'rb') as f:\n",
    "    genre_encoder = pickle.load(f)\n",
    "\n",
    "# === Preprocess ===\n",
    "num_cols = ['popularity', 'release', 'danceability', 'energy', 'valence', 'tempo', 'duration_ms']\n",
    "X_audio = scaler.transform(df[num_cols])\n",
    "\n",
    "mood_ohe = mood_encoder.transform(df[['mood']])\n",
    "time_ohe = time_encoder.transform(df[['time_of_day']])\n",
    "X_context = np.hstack([mood_ohe, time_ohe])\n",
    "\n",
    "X = {\n",
    "    'audio_input': X_audio,\n",
    "    'context_input': X_context\n",
    "}\n",
    "\n",
    "y = genre_encoder.transform(df[['genre']])\n",
    "\n",
    "# === Evaluate ===\n",
    "loss, accuracy = model.evaluate(X, y, verbose=1)\n",
    "print(f\"\\n📊 Full Dataset Evaluation:\\nLoss: {loss:.4f}, Accuracy: {accuracy:.4f}\")\n"
   ]
  }
 ],
 "metadata": {
  "kernelspec": {
   "display_name": "ai",
   "language": "python",
   "name": "python3"
  },
  "language_info": {
   "codemirror_mode": {
    "name": "ipython",
    "version": 3
   },
   "file_extension": ".py",
   "mimetype": "text/x-python",
   "name": "python",
   "nbconvert_exporter": "python",
   "pygments_lexer": "ipython3",
   "version": "3.9.13"
  }
 },
 "nbformat": 4,
 "nbformat_minor": 5
}
